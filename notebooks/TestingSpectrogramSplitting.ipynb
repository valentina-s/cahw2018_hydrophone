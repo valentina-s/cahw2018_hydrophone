{
 "cells": [
  {
   "cell_type": "markdown",
   "metadata": {},
   "source": [
    "## Efficient Computation and Storage of Spectrograms"
   ]
  },
  {
   "cell_type": "markdown",
   "metadata": {},
   "source": [
    "In this notebook we explore ways to compute and store efficiently spectrograms from long streams of audio data. Our approach aims to handle the computation in chunks without simultaneously loading the whole dataset, and use storage formats which allow the extraction of subsets  of the data without the reading the full file. We investigate the use of `xarray` and `dask` libraries and the `netcdf` format. The test audio dataset comes from the Ocean Observatories Initiative hydrophone data.  We have a big `.mseed` audio file which stores 2 hours data. The file was created by the hydrophone team during [Cabled Array Hackweek](https://oceanhackweek.github.io/CAHW2018_website/), when we first encountered the challenge of handling spectrograms of long audio streams."
   ]
  },
  {
   "cell_type": "code",
   "execution_count": null,
   "metadata": {},
   "outputs": [],
   "source": [
    "import numpy as np\n",
    "import pandas as pd"
   ]
  },
  {
   "cell_type": "code",
   "execution_count": null,
   "metadata": {},
   "outputs": [],
   "source": [
    "# xarray is a library for labeled multidimensional arrays which supports chunking\n",
    "import xarray as xr"
   ]
  },
  {
   "cell_type": "code",
   "execution_count": null,
   "metadata": {},
   "outputs": [],
   "source": [
    "# obspy is a library to read .mseed audio streams (developed in the seismology community)\n",
    "import obspy"
   ]
  },
  {
   "cell_type": "code",
   "execution_count": null,
   "metadata": {},
   "outputs": [],
   "source": [
    "obspy.__version__"
   ]
  },
  {
   "cell_type": "code",
   "execution_count": null,
   "metadata": {},
   "outputs": [],
   "source": [
    "# visualization packages\n",
    "import matplotlib.pyplot as plt\n",
    "from matplotlib import mlab\n",
    "import pylab as pl\n",
    "%matplotlib inline"
   ]
  },
  {
   "cell_type": "code",
   "execution_count": null,
   "metadata": {},
   "outputs": [],
   "source": [
    "# ~1GB file of long hydrophone audio stream \n",
    "# (this file was extracted and created during Cabled Array Hackweek)\n",
    "# need to store it somewhere publicly\n",
    "merged_sounds = obspy.read('../data/merged_hydrophone.mseed')"
   ]
  },
  {
   "cell_type": "code",
   "execution_count": null,
   "metadata": {},
   "outputs": [],
   "source": [
    "merged_sounds = merged_sounds.merge()"
   ]
  },
  {
   "cell_type": "code",
   "execution_count": null,
   "metadata": {},
   "outputs": [],
   "source": [
    "# calculate number of frames in clip\n",
    "secs = 5\n",
    "freq = 64000\n",
    "framesPerClip= secs*freq"
   ]
  },
  {
   "cell_type": "code",
   "execution_count": null,
   "metadata": {},
   "outputs": [],
   "source": [
    "params = {'NFFT':1024, 'Fs':64000, 'noverlap':5}\n",
    "P, freqs, bins = mlab.specgram(merged_sounds[0].data[:framesPerClip], **params)\n",
    "spec_dim = P.shape"
   ]
  },
  {
   "cell_type": "code",
   "execution_count": null,
   "metadata": {},
   "outputs": [],
   "source": [
    "# function to plot the spectrogram\n",
    "def PlotSpecgram(P, freqs, bins):\n",
    "    \"\"\"Spectrogram\"\"\"\n",
    "    Z = np.flipud(P) # flip rows so that top goes to bottom, bottom to top, etc.\n",
    "    xextent = 0, np.amax(bins)\n",
    "    xmin, xmax = xextent\n",
    "    extent = xmin, xmax, freqs[0], freqs[-1]\n",
    "\n",
    "    im = pl.imshow(np.log(Z[:,:]), extent=extent,cmap = 'plasma')\n",
    "    pl.axis('auto')\n",
    "    pl.xlim([0.0, bins[-1]])\n",
    "    pl.ylim([0, freqs[-1]])"
   ]
  },
  {
   "cell_type": "code",
   "execution_count": null,
   "metadata": {},
   "outputs": [],
   "source": [
    "#PlotSpecgram(spec, freqs, times)"
   ]
  },
  {
   "cell_type": "code",
   "execution_count": null,
   "metadata": {},
   "outputs": [],
   "source": [
    "# specify window length for parallel processing\n",
    "# a small overlap will ensure there are no gaps in the values\n",
    "# but need to make sure there are no conflicts at the boundaries\n",
    "# eventually each window becomes a chunk\n",
    "# the size of the window also affects the choice of nfft in the short term fourier transform\n",
    "\n",
    "window_length = 5 \n",
    "step = 5\n",
    "windows = merged_sounds[0].slide(5,5)"
   ]
  },
  {
   "cell_type": "code",
   "execution_count": null,
   "metadata": {},
   "outputs": [],
   "source": [
    "st = obspy.Stream([windowed_st for windowed_st in merged_sounds[0].slide(window_length=10.0, step=10.0)])"
   ]
  },
  {
   "cell_type": "code",
   "execution_count": null,
   "metadata": {},
   "outputs": [],
   "source": [
    "from scipy import signal"
   ]
  },
  {
   "cell_type": "code",
   "execution_count": null,
   "metadata": {},
   "outputs": [],
   "source": [
    "nfft = 4096\n",
    "noverlap = 5\n",
    "fs = 64000"
   ]
  },
  {
   "cell_type": "code",
   "execution_count": null,
   "metadata": {},
   "outputs": [],
   "source": [
    "# let's calculate the spectrogram of the first window in the stream (st[0])\n",
    "freqs, times, spec = signal.spectrogram(st[0].data, fs=fs, nfft=nfft, noverlap=noverlap)"
   ]
  },
  {
   "cell_type": "code",
   "execution_count": null,
   "metadata": {},
   "outputs": [],
   "source": [
    "import datetime"
   ]
  },
  {
   "cell_type": "code",
   "execution_count": null,
   "metadata": {},
   "outputs": [],
   "source": [
    "# start_time\n",
    "start_time = datetime.datetime.strptime(str(st[0].stats.starttime),'%Y-%m-%dT%H:%M:%S.%fZ')\n",
    "st[0].stats.starttime"
   ]
  },
  {
   "cell_type": "code",
   "execution_count": null,
   "metadata": {},
   "outputs": [],
   "source": [
    "(start_time+datetime.timedelta(0,1)).strftime(\"%Y-%m-%d %H:%M:%S\")"
   ]
  },
  {
   "cell_type": "code",
   "execution_count": null,
   "metadata": {},
   "outputs": [],
   "source": [
    "# convert times to UTC\n",
    "UTC_times = [datetime.timedelta(0,sec)+start_time for sec in times]"
   ]
  },
  {
   "cell_type": "code",
   "execution_count": null,
   "metadata": {},
   "outputs": [],
   "source": [
    "# create an xarray with correct time and frequency labels\n",
    "xr_spec = xr.DataArray(spec,dims = ('freq','time'),coords = {'freq':freqs,'time':UTC_times})"
   ]
  },
  {
   "cell_type": "code",
   "execution_count": null,
   "metadata": {},
   "outputs": [],
   "source": [
    "# chunk it: the chunk is equal to the window: i.e. the whole window is a chunk by itself\n",
    "xr_spec.chunk(xr_spec.shape)"
   ]
  },
  {
   "cell_type": "code",
   "execution_count": null,
   "metadata": {},
   "outputs": [],
   "source": [
    "# now we can use the built-in xarray function to plot the spectrogram with the correct labels\n",
    "# we apply the log function for better visibility\n",
    "plt.figure(figsize=(10,5))\n",
    "np.log(xr_spec).plot()"
   ]
  },
  {
   "cell_type": "code",
   "execution_count": null,
   "metadata": {
    "scrolled": true
   },
   "outputs": [],
   "source": [
    "total_curve = xr_spec.sel(freq=slice(0,200)).sum(axis = 0)"
   ]
  },
  {
   "cell_type": "code",
   "execution_count": null,
   "metadata": {},
   "outputs": [],
   "source": [
    "plt.figure(figsize=(10,5))\n",
    "total_curve.plot()"
   ]
  },
  {
   "cell_type": "code",
   "execution_count": null,
   "metadata": {},
   "outputs": [],
   "source": [
    "# spectrogram function definition\n",
    "def get_spec(trace, fs, nfft, noverlap, outfile=False):\n",
    "    \"\"\"\n",
    "    create spectrogram from obspy trace to xarray format\n",
    "    \n",
    "    Inputs\n",
    "    ------\n",
    "        trace: audio signal in obspy trace format\n",
    "        fs, nfft, noverlap: stft parameters\n",
    "        outfile: if True, the spectrogram is written into a sequence of netcdf files\n",
    "        \n",
    "        Note: the name of the files is merged_hydrophone_[start_time].nc\n",
    "        TODO: more custom file naming\n",
    "        \n",
    "    Outputs\n",
    "    -------\n",
    "        xr_spec: log of spectrogram in xarray format\n",
    "       \n",
    "    \"\"\"\n",
    "    \n",
    "    # spectrogram calculation\n",
    "    freqs, times, spec = signal.spectrogram(trace.data, fs=fs, nfft=nfft, noverlap=noverlap)\n",
    "    \n",
    "    # creating time stamps\n",
    "    start_time = datetime.datetime.strptime(str(trace.stats.starttime),'%Y-%m-%dT%H:%M:%S.%fZ')\n",
    "    UTC_times = [datetime.timedelta(0,sec)+start_time for sec in times]\n",
    "    xr_spec = xr.DataArray(np.log(spec),dims = ('freq','time'),coords = {'freq':freqs,'time':UTC_times})\n",
    "    \n",
    "    # chunking\n",
    "    xr_spec = xr_spec.chunk(xr_spec.shape)\n",
    "    \n",
    "    # write output file\n",
    "    if outfile:\n",
    "        xr_spec.to_netcdf('merged_hydrophone_'+str(start_time)+'.nc')\n",
    "        \n",
    "    return(xr_spec)"
   ]
  },
  {
   "cell_type": "markdown",
   "metadata": {},
   "source": [
    "We will use the `dask.delayed` functionality. We will wrap the `get_spec` function and will apply it in parrallel to all windows in the stream."
   ]
  },
  {
   "cell_type": "code",
   "execution_count": null,
   "metadata": {},
   "outputs": [],
   "source": [
    "from dask.delayed import delayed"
   ]
  },
  {
   "cell_type": "code",
   "execution_count": null,
   "metadata": {},
   "outputs": [],
   "source": [
    "get_spec_delayed = delayed(get_spec)"
   ]
  },
  {
   "cell_type": "code",
   "execution_count": null,
   "metadata": {},
   "outputs": [],
   "source": [
    "dfs = [get_spec_delayed(tr,fs,nfft,noverlap) for tr in st]"
   ]
  },
  {
   "cell_type": "code",
   "execution_count": null,
   "metadata": {},
   "outputs": [],
   "source": [
    "%%time\n",
    "import dask\n",
    "results = dask.compute(*dfs)"
   ]
  },
  {
   "cell_type": "code",
   "execution_count": null,
   "metadata": {},
   "outputs": [],
   "source": [
    "# TODO: understand why I get 0's in the spectrograms"
   ]
  },
  {
   "cell_type": "code",
   "execution_count": null,
   "metadata": {},
   "outputs": [],
   "source": [
    "results[0]"
   ]
  },
  {
   "cell_type": "code",
   "execution_count": null,
   "metadata": {},
   "outputs": [],
   "source": [
    "# concatenating the list of outputs\n",
    "xr_spec_combined = xr.concat(results, dim='time')\n",
    "    "
   ]
  },
  {
   "cell_type": "code",
   "execution_count": null,
   "metadata": {},
   "outputs": [],
   "source": [
    "# xr_spec_combined_sorted = xr_spec_combined.sortby('time')"
   ]
  },
  {
   "cell_type": "code",
   "execution_count": null,
   "metadata": {},
   "outputs": [],
   "source": [
    "# xr_spec_combined_sorted.shape"
   ]
  },
  {
   "cell_type": "markdown",
   "metadata": {},
   "source": [
    "Let's look at a slice of the spectrogram. We can use the `xarray`'s `sel` function."
   ]
  },
  {
   "cell_type": "code",
   "execution_count": null,
   "metadata": {},
   "outputs": [],
   "source": [
    "sliced = xr_spec_combined.sel(time=slice('2017-08-21T09:02:10','2017-08-21T09:02:20'))"
   ]
  },
  {
   "cell_type": "code",
   "execution_count": null,
   "metadata": {},
   "outputs": [],
   "source": [
    "sliced"
   ]
  },
  {
   "cell_type": "code",
   "execution_count": null,
   "metadata": {},
   "outputs": [],
   "source": [
    "sliced.time[0]"
   ]
  },
  {
   "cell_type": "code",
   "execution_count": null,
   "metadata": {
    "scrolled": false
   },
   "outputs": [],
   "source": [
    "%%time\n",
    "plt.figure(figsize=(10,5))\n",
    "sliced.sel(freq=slice(0,500)).plot()"
   ]
  },
  {
   "cell_type": "code",
   "execution_count": null,
   "metadata": {},
   "outputs": [],
   "source": [
    "sliced.sel(freq=slice(0,500)).imshow()"
   ]
  },
  {
   "cell_type": "markdown",
   "metadata": {},
   "source": [
    "#### Storing and opening spectrograms in NetCDF format"
   ]
  },
  {
   "cell_type": "markdown",
   "metadata": {},
   "source": [
    "*Single File*"
   ]
  },
  {
   "cell_type": "code",
   "execution_count": null,
   "metadata": {},
   "outputs": [],
   "source": [
    "# Storing\n",
    "#\n",
    "# if a filename already exists,\n",
    "# we need to specify the mode with which we want to write up the file: 'w' or 'a'\n",
    "\n",
    "xr_spec_combined.to_netcdf('spectrogram.nc',mode='w')"
   ]
  },
  {
   "cell_type": "code",
   "execution_count": null,
   "metadata": {},
   "outputs": [],
   "source": [
    "# Opening\n",
    "\n",
    "spec_opened = xr.open_dataarray('../data/spectrogram.nc')\n",
    "spec_opened.chunk(results[0].shape)"
   ]
  },
  {
   "cell_type": "code",
   "execution_count": null,
   "metadata": {},
   "outputs": [],
   "source": [
    "# chunks did not get preserved\n",
    "spec_opened"
   ]
  },
  {
   "cell_type": "code",
   "execution_count": null,
   "metadata": {},
   "outputs": [],
   "source": [
    "# sort by time: plotting is complaining xarray is not sorted, \n",
    "# so trying to sort it but crashing the kernel\n",
    "spec_opened = spec_opened.sortby('time')"
   ]
  },
  {
   "cell_type": "code",
   "execution_count": null,
   "metadata": {},
   "outputs": [],
   "source": [
    "spec_opened.plot()"
   ]
  },
  {
   "cell_type": "markdown",
   "metadata": {},
   "source": [
    "*Multiple Files*"
   ]
  },
  {
   "cell_type": "code",
   "execution_count": null,
   "metadata": {},
   "outputs": [],
   "source": [
    "#!ls"
   ]
  },
  {
   "cell_type": "code",
   "execution_count": null,
   "metadata": {},
   "outputs": [],
   "source": [
    "# cleaning up unnecessary files\n",
    "#!find . -name \"2017*.nc\" -exec rm {} \\;"
   ]
  },
  {
   "cell_type": "code",
   "execution_count": null,
   "metadata": {},
   "outputs": [],
   "source": [
    "# Working with multiple files: they automatically load into a chunked format\n",
    "res = xr.open_mfdataset('../data/spectrogram.nc')"
   ]
  },
  {
   "cell_type": "code",
   "execution_count": null,
   "metadata": {},
   "outputs": [],
   "source": [
    "res.sel(time=slice('2017-08-21T09:02','2017-08-21T09:04'))"
   ]
  },
  {
   "cell_type": "code",
   "execution_count": null,
   "metadata": {},
   "outputs": [],
   "source": [
    "res.plot()"
   ]
  },
  {
   "cell_type": "code",
   "execution_count": null,
   "metadata": {},
   "outputs": [],
   "source": [
    "# Working with multiple files: they automatically load into a chunked format\n",
    "res = xr.open_mfdataset('../data/merge*.nc', chunks = {'freq':2049,'time':7647})"
   ]
  },
  {
   "cell_type": "code",
   "execution_count": null,
   "metadata": {},
   "outputs": [],
   "source": []
  },
  {
   "cell_type": "code",
   "execution_count": null,
   "metadata": {},
   "outputs": [],
   "source": []
  }
 ],
 "metadata": {
  "kernelspec": {
   "display_name": "Python 3",
   "language": "python",
   "name": "python3"
  },
  "language_info": {
   "codemirror_mode": {
    "name": "ipython",
    "version": 3
   },
   "file_extension": ".py",
   "mimetype": "text/x-python",
   "name": "python",
   "nbconvert_exporter": "python",
   "pygments_lexer": "ipython3",
   "version": "3.6.1"
  }
 },
 "nbformat": 4,
 "nbformat_minor": 2
}

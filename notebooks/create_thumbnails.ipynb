{
 "cells": [
  {
   "cell_type": "markdown",
   "metadata": {},
   "source": [
    "This notebook creates thumbnails to visualize in an interactive plotting using the [Embedding Projector](https://projector.tensorflow.org/)."
   ]
  },
  {
   "cell_type": "markdown",
   "metadata": {},
   "source": [
    "The goal is to create a sprite image like this one:"
   ]
  },
  {
   "cell_type": "markdown",
   "metadata": {},
   "source": [
    "![](https://www.tensorflow.org/versions/r1.1/images/mnist_10k_sprite.png)"
   ]
  },
  {
   "cell_type": "markdown",
   "metadata": {},
   "source": [
    "The approach is as follows:\n",
    "\n",
    "    * read each line: reshape into a 2D array\n",
    "    * subsample the array\n",
    "    * set the small block of the sprite image equal to the corresponding array"
   ]
  },
  {
   "cell_type": "code",
   "execution_count": 1,
   "metadata": {},
   "outputs": [],
   "source": [
    "import numpy as np"
   ]
  },
  {
   "cell_type": "code",
   "execution_count": 2,
   "metadata": {},
   "outputs": [],
   "source": [
    "specfile = open('../data/spectrogram.csv')"
   ]
  },
  {
   "cell_type": "code",
   "execution_count": 3,
   "metadata": {},
   "outputs": [],
   "source": [
    "# spec_dim\n",
    "spec_dim = (513, 314)"
   ]
  },
  {
   "cell_type": "code",
   "execution_count": 4,
   "metadata": {},
   "outputs": [
    {
     "name": "stderr",
     "output_type": "stream",
     "text": [
      "/home/ubuntu/anaconda/envs/hydrophone/lib/python3.6/site-packages/ipykernel_launcher.py:8: RuntimeWarning: divide by zero encountered in log\n",
      "  \n"
     ]
    }
   ],
   "source": [
    "nofLines = 625\n",
    "thumbnails = []\n",
    "\n",
    "l = 1\n",
    "for line in specfile:\n",
    "    res = line.split(',') \n",
    "    #rows.append(np.array(res).astype('float')[1:])\n",
    "    thumbnail = np.log(np.array(res).astype('float')[1:]).reshape(spec_dim)#[::4,::4]\n",
    "    thumbnails.append(thumbnail)\n",
    "    l = l + 1\n",
    "    if l>nofLines:\n",
    "        break   "
   ]
  },
  {
   "cell_type": "code",
   "execution_count": 5,
   "metadata": {},
   "outputs": [
    {
     "name": "stdout",
     "output_type": "stream",
     "text": [
      "625\n"
     ]
    },
    {
     "data": {
      "text/plain": [
       "(314, 314)"
      ]
     },
     "execution_count": 5,
     "metadata": {},
     "output_type": "execute_result"
    }
   ],
   "source": [
    "print(len(thumbnails))\n",
    "thumbnails[0][199:,:].shape\n",
    "#513*314\n",
    "# why less int the last row, makes sense coz of sliding"
   ]
  },
  {
   "cell_type": "code",
   "execution_count": 6,
   "metadata": {},
   "outputs": [],
   "source": [
    "thumbnails_small = []\n",
    "for t in thumbnails:\n",
    "    thumbnails_small.append(t[199:,:])\n",
    "    "
   ]
  },
  {
   "cell_type": "code",
   "execution_count": 7,
   "metadata": {},
   "outputs": [],
   "source": [
    "specfile.close()"
   ]
  },
  {
   "cell_type": "code",
   "execution_count": 8,
   "metadata": {},
   "outputs": [
    {
     "data": {
      "text/plain": [
       "(7850, 7850)"
      ]
     },
     "execution_count": 8,
     "metadata": {},
     "output_type": "execute_result"
    }
   ],
   "source": [
    "strip = np.hstack(tuple(thumbnails_small))\n",
    "strip.reshape((25*314,-1)).shape"
   ]
  },
  {
   "cell_type": "code",
   "execution_count": 9,
   "metadata": {},
   "outputs": [
    {
     "name": "stdout",
     "output_type": "stream",
     "text": [
      "Requirement already satisfied: scikit-image in /home/ubuntu/anaconda/envs/hydrophone/lib/python3.6/site-packages\n",
      "Requirement already satisfied: matplotlib>=1.3.1 in /home/ubuntu/anaconda/envs/hydrophone/lib/python3.6/site-packages (from scikit-image)\n",
      "Requirement already satisfied: six>=1.7.3 in /home/ubuntu/anaconda/envs/hydrophone/lib/python3.6/site-packages (from scikit-image)\n",
      "Requirement already satisfied: networkx>=1.8 in /home/ubuntu/anaconda/envs/hydrophone/lib/python3.6/site-packages (from scikit-image)\n",
      "Requirement already satisfied: pillow>=2.1.0 in /home/ubuntu/anaconda/envs/hydrophone/lib/python3.6/site-packages (from scikit-image)\n",
      "Requirement already satisfied: PyWavelets>=0.4.0 in /home/ubuntu/anaconda/envs/hydrophone/lib/python3.6/site-packages (from scikit-image)\n",
      "Requirement already satisfied: numpy>=1.7.1 in /home/ubuntu/anaconda/envs/hydrophone/lib/python3.6/site-packages (from matplotlib>=1.3.1->scikit-image)\n",
      "Requirement already satisfied: python-dateutil>=2.1 in /home/ubuntu/anaconda/envs/hydrophone/lib/python3.6/site-packages (from matplotlib>=1.3.1->scikit-image)\n",
      "Requirement already satisfied: pytz in /home/ubuntu/anaconda/envs/hydrophone/lib/python3.6/site-packages (from matplotlib>=1.3.1->scikit-image)\n",
      "Requirement already satisfied: cycler>=0.10 in /home/ubuntu/anaconda/envs/hydrophone/lib/python3.6/site-packages/cycler-0.10.0-py3.6.egg (from matplotlib>=1.3.1->scikit-image)\n",
      "Requirement already satisfied: pyparsing!=2.0.4,!=2.1.2,!=2.1.6,>=2.0.1 in /home/ubuntu/anaconda/envs/hydrophone/lib/python3.6/site-packages (from matplotlib>=1.3.1->scikit-image)\n",
      "Requirement already satisfied: decorator>=4.1.0 in /home/ubuntu/anaconda/envs/hydrophone/lib/python3.6/site-packages (from networkx>=1.8->scikit-image)\n",
      "\u001b[33mYou are using pip version 9.0.1, however version 9.0.3 is available.\n",
      "You should consider upgrading via the 'pip install --upgrade pip' command.\u001b[0m\n"
     ]
    }
   ],
   "source": [
    "!pip install scikit-image"
   ]
  },
  {
   "cell_type": "code",
   "execution_count": 10,
   "metadata": {},
   "outputs": [],
   "source": [
    "import skimage"
   ]
  },
  {
   "cell_type": "code",
   "execution_count": 18,
   "metadata": {},
   "outputs": [
    {
     "data": {
      "text/plain": [
       "-33.43902276647305"
      ]
     },
     "execution_count": 18,
     "metadata": {},
     "output_type": "execute_result"
    }
   ],
   "source": [
    "from numpy import inf\n",
    "strip[strip == -inf] = 0\n",
    "strip.max()\n",
    "strip.min()"
   ]
  },
  {
   "cell_type": "code",
   "execution_count": 21,
   "metadata": {},
   "outputs": [
    {
     "name": "stderr",
     "output_type": "stream",
     "text": [
      "/home/ubuntu/anaconda/envs/hydrophone/lib/python3.6/site-packages/skimage/util/dtype.py:122: UserWarning: Possible precision loss when converting from float64 to uint16\n",
      "  .format(dtypeobj_in, dtypeobj_out))\n"
     ]
    }
   ],
   "source": [
    "import skimage.io as io\n",
    "io.imsave('spec_stripe.png', (strip-strip.min())/(strip.max() - strip.min()))\n",
    "\n",
    "\n",
    "# another option: make the thumbnails square images and then stitch them"
   ]
  },
  {
   "cell_type": "code",
   "execution_count": null,
   "metadata": {},
   "outputs": [],
   "source": [
    "np.hstack(tuple((strip, np.ones((513,))))).reshape((15700,15700))\n",
    "                "
   ]
  },
  {
   "cell_type": "code",
   "execution_count": null,
   "metadata": {},
   "outputs": [],
   "source": [
    "np.log(X[i,:].reshape(spec_dim)),zoom = 0.05, cmap='plasma'),"
   ]
  },
  {
   "cell_type": "code",
   "execution_count": 32,
   "metadata": {
    "collapsed": true
   },
   "outputs": [],
   "source": [
    "# lets not downsample\n",
    "\n",
    "N = int(np.ceil(np.sqrt(513*314*1441)))"
   ]
  },
  {
   "cell_type": "code",
   "execution_count": 33,
   "metadata": {
    "collapsed": true
   },
   "outputs": [],
   "source": [
    "# or maybe they base it on the number of points"
   ]
  },
  {
   "cell_type": "code",
   "execution_count": 34,
   "metadata": {
    "collapsed": true
   },
   "outputs": [],
   "source": [
    "# pad with zeros\n",
    "\n"
   ]
  },
  {
   "cell_type": "code",
   "execution_count": 35,
   "metadata": {
    "collapsed": true
   },
   "outputs": [],
   "source": [
    "sprite_image = np.ones((N,N))"
   ]
  },
  {
   "cell_type": "code",
   "execution_count": 36,
   "metadata": {},
   "outputs": [
    {
     "data": {
      "text/plain": [
       "48.52229299363057"
      ]
     },
     "execution_count": 36,
     "metadata": {},
     "output_type": "execute_result"
    }
   ],
   "source": [
    "N/314"
   ]
  },
  {
   "cell_type": "code",
   "execution_count": 53,
   "metadata": {},
   "outputs": [
    {
     "data": {
      "text/plain": [
       "15700"
      ]
     },
     "execution_count": 53,
     "metadata": {},
     "output_type": "execute_result"
    }
   ],
   "source": [
    "50*314"
   ]
  },
  {
   "cell_type": "code",
   "execution_count": 42,
   "metadata": {},
   "outputs": [
    {
     "data": {
      "text/plain": [
       "29.69980506822612"
      ]
     },
     "execution_count": 42,
     "metadata": {},
     "output_type": "execute_result"
    }
   ],
   "source": [
    "N/513"
   ]
  },
  {
   "cell_type": "code",
   "execution_count": 52,
   "metadata": {},
   "outputs": [
    {
     "data": {
      "text/plain": [
       "14877"
      ]
     },
     "execution_count": 52,
     "metadata": {},
     "output_type": "execute_result"
    }
   ],
   "source": [
    "29*513"
   ]
  },
  {
   "cell_type": "code",
   "execution_count": 54,
   "metadata": {},
   "outputs": [
    {
     "data": {
      "text/plain": [
       "1450"
      ]
     },
     "execution_count": 54,
     "metadata": {},
     "output_type": "execute_result"
    }
   ],
   "source": [
    "29*50"
   ]
  },
  {
   "cell_type": "code",
   "execution_count": 56,
   "metadata": {
    "collapsed": true
   },
   "outputs": [],
   "source": [
    "im_per_row = 50\n",
    "im_per_col = 29"
   ]
  },
  {
   "cell_type": "code",
   "execution_count": null,
   "metadata": {
    "collapsed": true
   },
   "outputs": [],
   "source": []
  },
  {
   "cell_type": "code",
   "execution_count": null,
   "metadata": {
    "collapsed": true
   },
   "outputs": [],
   "source": []
  }
 ],
 "metadata": {
  "anaconda-cloud": {},
  "kernelspec": {
   "display_name": "Python 3",
   "language": "python",
   "name": "python3"
  },
  "language_info": {
   "codemirror_mode": {
    "name": "ipython",
    "version": 3
   },
   "file_extension": ".py",
   "mimetype": "text/x-python",
   "name": "python",
   "nbconvert_exporter": "python",
   "pygments_lexer": "ipython3",
   "version": "3.6.4"
  }
 },
 "nbformat": 4,
 "nbformat_minor": 1
}
